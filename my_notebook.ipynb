{
 "cells": [
  {
   "cell_type": "markdown",
   "id": "b11dcb93",
   "metadata": {},
   "source": [
    "# MY JUPYTER NOTEBOOK"
   ]
  },
  {
   "cell_type": "markdown",
   "id": "6f67ca09",
   "metadata": {},
   "source": [
    "INTRODUCTION - HI MY NAME IS OM RAI AND I AM FROM PUNE,INDIA AND I AM A STUDENT AT MIT"
   ]
  },
  {
   "cell_type": "markdown",
   "id": "fc194823",
   "metadata": {},
   "source": [
    "LIST OF DATA SCIENCE LANGUAGES:\n",
    "-  PYTHON\n",
    "-  SCALA\n",
    "-  R\n",
    "-  RUBY"
   ]
  },
  {
   "cell_type": "markdown",
   "id": "480eccb8",
   "metadata": {},
   "source": [
    "LIST OF DATA SCIENCE LIBRARIES\n",
    "1. TENSORFLOW\n",
    "2. PANDAS\n",
    "3. NUMPY\n",
    "4. MATPLOTLIB"
   ]
  },
  {
   "cell_type": "markdown",
   "id": "040415e2",
   "metadata": {},
   "source": [
    "|Data Science Tools|\n",
    "|------------------|\n",
    "|JUPYTER|\n",
    "|RSTUDIO|\n",
    "|WATSON STUDIO|\n",
    "|GOOGLE ANALYTICS|"
   ]
  },
  {
   "cell_type": "code",
   "execution_count": 2,
   "id": "79c5673d",
   "metadata": {},
   "outputs": [
    {
     "name": "stdout",
     "output_type": "stream",
     "text": [
      "9\n"
     ]
    }
   ],
   "source": [
    "a=0\n",
    "for i in range(3):\n",
    "    a=a+3\n",
    "print(a)"
   ]
  },
  {
   "cell_type": "code",
   "execution_count": 3,
   "id": "b20c45a9",
   "metadata": {},
   "outputs": [
    {
     "name": "stdout",
     "output_type": "stream",
     "text": [
      "addition is: 35\n",
      "multipication is: 75\n"
     ]
    }
   ],
   "source": [
    "a=20\n",
    "b=15\n",
    "c=5\n",
    "print(\"addition is:\",a+b)\n",
    "print(\"multipication is:\",b*c)"
   ]
  },
  {
   "cell_type": "code",
   "execution_count": 4,
   "id": "298bcbd0",
   "metadata": {},
   "outputs": [
    {
     "name": "stdout",
     "output_type": "stream",
     "text": [
      "2.5\n"
     ]
    }
   ],
   "source": [
    "minutes=150\n",
    "hour=minutes/60\n",
    "print(hour)"
   ]
  },
  {
   "cell_type": "markdown",
   "id": "a0f6da03",
   "metadata": {},
   "source": [
    "List of objectives:\n",
    "- to learn data science\n",
    "- learn ml/ai\n",
    "- be proficient in python\n",
    "- get a good job"
   ]
  },
  {
   "cell_type": "markdown",
   "id": "7b7e3c9b",
   "metadata": {},
   "source": [
    "AUTHOR'S NAME - Romeo Kienzler"
   ]
  },
  {
   "cell_type": "code",
   "execution_count": null,
   "id": "11ab5177",
   "metadata": {},
   "outputs": [],
   "source": []
  }
 ],
 "metadata": {
  "kernelspec": {
   "display_name": "Python 3 (ipykernel)",
   "language": "python",
   "name": "python3"
  },
  "language_info": {
   "codemirror_mode": {
    "name": "ipython",
    "version": 3
   },
   "file_extension": ".py",
   "mimetype": "text/x-python",
   "name": "python",
   "nbconvert_exporter": "python",
   "pygments_lexer": "ipython3",
   "version": "3.9.13"
  }
 },
 "nbformat": 4,
 "nbformat_minor": 5
}
